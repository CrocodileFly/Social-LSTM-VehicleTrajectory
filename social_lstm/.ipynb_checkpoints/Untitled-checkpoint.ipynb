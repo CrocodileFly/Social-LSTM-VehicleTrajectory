{
 "cells": [
  {
   "cell_type": "code",
   "execution_count": 2,
   "metadata": {
    "collapsed": false
   },
   "outputs": [
    {
     "name": "stdout",
     "output_type": "stream",
     "text": [
      "(4, 1048575)\n",
      "(4, 1048575)\n",
      "(4, 1048575)\n"
     ]
    }
   ],
   "source": [
    "import os\n",
    "import numpy as np\n",
    "\n",
    "data_dirs = ['../data_vehicles/0','../data_vehicles/1','../data_vehicles/2']\n",
    "\n",
    "for directory in data_dirs:\n",
    "    file_path = os.path.join(directory, 'pixel_pos.csv')\n",
    "    data = np.genfromtxt(file_path, delimiter=',')\n",
    "    frameList = np.unique(data[0, :]).tolist()\n",
    "    numFrames = len(frameList)\n",
    "    print(data.shape)\n",
    "    # Normalize between -1 and 1\n",
    "    data[2,:] = (2*(data[2,:]-data[2,:].min())/(data[2,:].max()-data[2,:].min())) - 1\n",
    "    data[3,:] = (2*(data[3,:]-data[3,:].min())/(data[3,:].max()-data[3,:].min())) - 1\n",
    "    np.savetxt(directory+\"/norm_pixels.csv\", data, delimiter=\",\")"
   ]
  },
  {
   "cell_type": "code",
   "execution_count": null,
   "metadata": {
    "collapsed": true
   },
   "outputs": [],
   "source": []
  }
 ],
 "metadata": {
  "kernelspec": {
   "display_name": "Python 3",
   "language": "python",
   "name": "python3"
  },
  "language_info": {
   "codemirror_mode": {
    "name": "ipython",
    "version": 3
   },
   "file_extension": ".py",
   "mimetype": "text/x-python",
   "name": "python",
   "nbconvert_exporter": "python",
   "pygments_lexer": "ipython3",
   "version": "3.6.3"
  }
 },
 "nbformat": 4,
 "nbformat_minor": 2
}
